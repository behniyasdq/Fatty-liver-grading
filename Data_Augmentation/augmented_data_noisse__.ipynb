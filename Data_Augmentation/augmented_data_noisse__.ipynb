{
  "nbformat": 4,
  "nbformat_minor": 0,
  "metadata": {
    "colab": {
      "provenance": []
    },
    "kernelspec": {
      "name": "python3",
      "display_name": "Python 3"
    },
    "language_info": {
      "name": "python"
    }
  },
  "cells": [
    {
      "cell_type": "code",
      "source": [
        "import numpy as np\n",
        "import pandas as pd\n",
        "from sklearn.preprocessing import StandardScaler\n",
        "from sklearn.preprocessing import LabelEncoder\n",
        "from sklearn.model_selection import train_test_split\n",
        "\n",
        "# Load the dataset\n",
        "data = pd.read_excel('/content/2.xlsx')\n",
        "\n",
        "# Remove unnecessary columns\n",
        "data = data.drop(columns=['name'], errors='ignore')\n",
        "\n",
        "# Drop rows with any missing values\n",
        "data.dropna(inplace=True)\n",
        "\n",
        "# Encode categorical features if needed\n",
        "for column in data.select_dtypes(include=['object']).columns:\n",
        "    le = LabelEncoder()\n",
        "    data[column] = le.fit_transform(data[column].astype(str))\n",
        "\n",
        "# Splitting features and target\n",
        "X = data.drop('steato score', axis=1).values\n",
        "y = data['steato score'].values\n",
        "\n",
        "# Standardize the data\n",
        "scaler = StandardScaler()\n",
        "X = scaler.fit_transform(X)\n",
        "\n",
        "# Split data into training and testing sets\n",
        "X_train, X_test, y_train, y_test = train_test_split(X, y, test_size=0.3, random_state=42,shuffle=True)\n",
        "\n",
        "# Save the test data to an Excel file\n",
        "test_data = pd.DataFrame(X_test, columns=data.drop('steato score', axis=1).columns)\n",
        "test_data['steato score'] = y_test\n",
        "test_data.to_excel('/content/test_data_2.xlsx', index=False)\n",
        "\n",
        "D_data = pd.DataFrame(X, columns=data.drop('steato score', axis=1).columns)\n",
        "D_data['steato score'] = y\n",
        "D_data.to_excel(f'/content/data_REAL_2.xlsx', index=False)\n",
        "\n",
        "# Separate training data by class for augmentation\n",
        "classes = np.unique(y_train)\n",
        "class_data = {cls: X_train[y_train == cls] for cls in classes}\n",
        "\n",
        "# Function to add Gaussian noise for each class\n",
        "def augment_with_noise(class_data, target_size):\n",
        "    augmented_data = []\n",
        "    for cls, samples in class_data.items():\n",
        "        current_size = len(samples)\n",
        "        if current_size < target_size:\n",
        "            # Calculate how many samples to generate\n",
        "            n_to_generate = target_size - current_size\n",
        "\n",
        "            # Add Gaussian noise\n",
        "            noise = np.random.normal(0, 0.2, size=(n_to_generate, samples.shape[1]))\n",
        "            synthetic_samples = samples[np.random.choice(current_size, n_to_generate, replace=True)] + noise\n",
        "\n",
        "            # Combine original and synthetic data\n",
        "            augmented_data.append(np.vstack((samples, synthetic_samples)))\n",
        "        else:\n",
        "            augmented_data.append(samples)\n",
        "    return np.vstack(augmented_data), np.hstack([[cls] * target_size for cls in classes])\n",
        "\n",
        "# Augment training data using Gaussian noise\n",
        "target_size = 300  # Target number of samples per class\n",
        "X_train_augmented, y_train_augmented = augment_with_noise(class_data, target_size)\n",
        "\n",
        "# Save the augmented training data to an Excel file\n",
        "augmented_train_data = pd.DataFrame(X_train_augmented, columns=data.drop('steato score', axis=1).columns)\n",
        "augmented_train_data['steato score'] = y_train_augmented\n",
        "augmented_train_data.to_excel('/content/augmented_train_data_noise.xlsx', index=False)\n",
        "\n",
        "print(\"Augmented training data generation using Gaussian Noise complete. File saved.\")\n"
      ],
      "metadata": {
        "colab": {
          "base_uri": "https://localhost:8080/"
        },
        "id": "PXOL_tJd0nFH",
        "outputId": "37ff8d07-a36e-4f83-ef3a-c2d1bcde60bb"
      },
      "execution_count": null,
      "outputs": [
        {
          "output_type": "stream",
          "name": "stdout",
          "text": [
            "Augmented training data generation using Gaussian Noise complete. File saved.\n"
          ]
        }
      ]
    }
  ]
}